{
  "nbformat": 4,
  "nbformat_minor": 0,
  "metadata": {
    "colab": {
      "provenance": []
    },
    "kernelspec": {
      "name": "python3",
      "display_name": "Python 3"
    },
    "language_info": {
      "name": "python"
    }
  },
  "cells": [
    {
      "cell_type": "code",
      "execution_count": 132,
      "metadata": {
        "colab": {
          "base_uri": "https://localhost:8080/",
          "height": 394
        },
        "id": "z6GjAHKX-sf-",
        "outputId": "e050b1f7-e86a-4fff-9355-b74dfe0636f4"
      },
      "outputs": [
        {
          "output_type": "execute_result",
          "data": {
            "text/plain": [
              "  Attrition    Business Travel CF_age band CF_attrition label Department  \\\n",
              "0       Yes      Travel_Rarely     35 - 44       Ex-Employees      Sales   \n",
              "1        No  Travel_Frequently     45 - 54  Current Employees        R&D   \n",
              "2       Yes      Travel_Rarely     35 - 44       Ex-Employees        R&D   \n",
              "3        No  Travel_Frequently     25 - 34  Current Employees        R&D   \n",
              "4        No      Travel_Rarely     25 - 34  Current Employees        R&D   \n",
              "\n",
              "  Education Field   emp no  Employee Number  Gender               Job Role  \\\n",
              "0   Life Sciences  STAFF-1                1  Female        Sales Executive   \n",
              "1   Life Sciences  STAFF-2                2    Male     Research Scientist   \n",
              "2           Other  STAFF-4                4    Male  Laboratory Technician   \n",
              "3   Life Sciences  STAFF-5                5  Female     Research Scientist   \n",
              "4         Medical  STAFF-7                7    Male  Laboratory Technician   \n",
              "\n",
              "   ... Performance Rating Relationship Satisfaction Standard Hours  \\\n",
              "0  ...                  3                         1             80   \n",
              "1  ...                  4                         4             80   \n",
              "2  ...                  3                         2             80   \n",
              "3  ...                  3                         3             80   \n",
              "4  ...                  3                         4             80   \n",
              "\n",
              "   Stock Option Level  Total Working Years  Work Life Balance  \\\n",
              "0                   0                    8                  1   \n",
              "1                   1                   10                  3   \n",
              "2                   0                    7                  3   \n",
              "3                   0                    8                  3   \n",
              "4                   1                    6                  3   \n",
              "\n",
              "   Years At Company  Years In Current Role Years Since Last Promotion  \\\n",
              "0                 6                      4                          0   \n",
              "1                10                      7                          1   \n",
              "2                 0                      0                          0   \n",
              "3                 8                      7                          3   \n",
              "4                 2                      2                          2   \n",
              "\n",
              "   Years With Curr Manager  \n",
              "0                        5  \n",
              "1                        7  \n",
              "2                        0  \n",
              "3                        0  \n",
              "4                        2  \n",
              "\n",
              "[5 rows x 39 columns]"
            ],
            "text/html": [
              "\n",
              "  <div id=\"df-97d9313a-1aac-4d34-b1eb-d3099cce7d22\" class=\"colab-df-container\">\n",
              "    <div>\n",
              "<style scoped>\n",
              "    .dataframe tbody tr th:only-of-type {\n",
              "        vertical-align: middle;\n",
              "    }\n",
              "\n",
              "    .dataframe tbody tr th {\n",
              "        vertical-align: top;\n",
              "    }\n",
              "\n",
              "    .dataframe thead th {\n",
              "        text-align: right;\n",
              "    }\n",
              "</style>\n",
              "<table border=\"1\" class=\"dataframe\">\n",
              "  <thead>\n",
              "    <tr style=\"text-align: right;\">\n",
              "      <th></th>\n",
              "      <th>Attrition</th>\n",
              "      <th>Business Travel</th>\n",
              "      <th>CF_age band</th>\n",
              "      <th>CF_attrition label</th>\n",
              "      <th>Department</th>\n",
              "      <th>Education Field</th>\n",
              "      <th>emp no</th>\n",
              "      <th>Employee Number</th>\n",
              "      <th>Gender</th>\n",
              "      <th>Job Role</th>\n",
              "      <th>...</th>\n",
              "      <th>Performance Rating</th>\n",
              "      <th>Relationship Satisfaction</th>\n",
              "      <th>Standard Hours</th>\n",
              "      <th>Stock Option Level</th>\n",
              "      <th>Total Working Years</th>\n",
              "      <th>Work Life Balance</th>\n",
              "      <th>Years At Company</th>\n",
              "      <th>Years In Current Role</th>\n",
              "      <th>Years Since Last Promotion</th>\n",
              "      <th>Years With Curr Manager</th>\n",
              "    </tr>\n",
              "  </thead>\n",
              "  <tbody>\n",
              "    <tr>\n",
              "      <th>0</th>\n",
              "      <td>Yes</td>\n",
              "      <td>Travel_Rarely</td>\n",
              "      <td>35 - 44</td>\n",
              "      <td>Ex-Employees</td>\n",
              "      <td>Sales</td>\n",
              "      <td>Life Sciences</td>\n",
              "      <td>STAFF-1</td>\n",
              "      <td>1</td>\n",
              "      <td>Female</td>\n",
              "      <td>Sales Executive</td>\n",
              "      <td>...</td>\n",
              "      <td>3</td>\n",
              "      <td>1</td>\n",
              "      <td>80</td>\n",
              "      <td>0</td>\n",
              "      <td>8</td>\n",
              "      <td>1</td>\n",
              "      <td>6</td>\n",
              "      <td>4</td>\n",
              "      <td>0</td>\n",
              "      <td>5</td>\n",
              "    </tr>\n",
              "    <tr>\n",
              "      <th>1</th>\n",
              "      <td>No</td>\n",
              "      <td>Travel_Frequently</td>\n",
              "      <td>45 - 54</td>\n",
              "      <td>Current Employees</td>\n",
              "      <td>R&amp;D</td>\n",
              "      <td>Life Sciences</td>\n",
              "      <td>STAFF-2</td>\n",
              "      <td>2</td>\n",
              "      <td>Male</td>\n",
              "      <td>Research Scientist</td>\n",
              "      <td>...</td>\n",
              "      <td>4</td>\n",
              "      <td>4</td>\n",
              "      <td>80</td>\n",
              "      <td>1</td>\n",
              "      <td>10</td>\n",
              "      <td>3</td>\n",
              "      <td>10</td>\n",
              "      <td>7</td>\n",
              "      <td>1</td>\n",
              "      <td>7</td>\n",
              "    </tr>\n",
              "    <tr>\n",
              "      <th>2</th>\n",
              "      <td>Yes</td>\n",
              "      <td>Travel_Rarely</td>\n",
              "      <td>35 - 44</td>\n",
              "      <td>Ex-Employees</td>\n",
              "      <td>R&amp;D</td>\n",
              "      <td>Other</td>\n",
              "      <td>STAFF-4</td>\n",
              "      <td>4</td>\n",
              "      <td>Male</td>\n",
              "      <td>Laboratory Technician</td>\n",
              "      <td>...</td>\n",
              "      <td>3</td>\n",
              "      <td>2</td>\n",
              "      <td>80</td>\n",
              "      <td>0</td>\n",
              "      <td>7</td>\n",
              "      <td>3</td>\n",
              "      <td>0</td>\n",
              "      <td>0</td>\n",
              "      <td>0</td>\n",
              "      <td>0</td>\n",
              "    </tr>\n",
              "    <tr>\n",
              "      <th>3</th>\n",
              "      <td>No</td>\n",
              "      <td>Travel_Frequently</td>\n",
              "      <td>25 - 34</td>\n",
              "      <td>Current Employees</td>\n",
              "      <td>R&amp;D</td>\n",
              "      <td>Life Sciences</td>\n",
              "      <td>STAFF-5</td>\n",
              "      <td>5</td>\n",
              "      <td>Female</td>\n",
              "      <td>Research Scientist</td>\n",
              "      <td>...</td>\n",
              "      <td>3</td>\n",
              "      <td>3</td>\n",
              "      <td>80</td>\n",
              "      <td>0</td>\n",
              "      <td>8</td>\n",
              "      <td>3</td>\n",
              "      <td>8</td>\n",
              "      <td>7</td>\n",
              "      <td>3</td>\n",
              "      <td>0</td>\n",
              "    </tr>\n",
              "    <tr>\n",
              "      <th>4</th>\n",
              "      <td>No</td>\n",
              "      <td>Travel_Rarely</td>\n",
              "      <td>25 - 34</td>\n",
              "      <td>Current Employees</td>\n",
              "      <td>R&amp;D</td>\n",
              "      <td>Medical</td>\n",
              "      <td>STAFF-7</td>\n",
              "      <td>7</td>\n",
              "      <td>Male</td>\n",
              "      <td>Laboratory Technician</td>\n",
              "      <td>...</td>\n",
              "      <td>3</td>\n",
              "      <td>4</td>\n",
              "      <td>80</td>\n",
              "      <td>1</td>\n",
              "      <td>6</td>\n",
              "      <td>3</td>\n",
              "      <td>2</td>\n",
              "      <td>2</td>\n",
              "      <td>2</td>\n",
              "      <td>2</td>\n",
              "    </tr>\n",
              "  </tbody>\n",
              "</table>\n",
              "<p>5 rows × 39 columns</p>\n",
              "</div>\n",
              "    <div class=\"colab-df-buttons\">\n",
              "\n",
              "  <div class=\"colab-df-container\">\n",
              "    <button class=\"colab-df-convert\" onclick=\"convertToInteractive('df-97d9313a-1aac-4d34-b1eb-d3099cce7d22')\"\n",
              "            title=\"Convert this dataframe to an interactive table.\"\n",
              "            style=\"display:none;\">\n",
              "\n",
              "  <svg xmlns=\"http://www.w3.org/2000/svg\" height=\"24px\" viewBox=\"0 -960 960 960\">\n",
              "    <path d=\"M120-120v-720h720v720H120Zm60-500h600v-160H180v160Zm220 220h160v-160H400v160Zm0 220h160v-160H400v160ZM180-400h160v-160H180v160Zm440 0h160v-160H620v160ZM180-180h160v-160H180v160Zm440 0h160v-160H620v160Z\"/>\n",
              "  </svg>\n",
              "    </button>\n",
              "\n",
              "  <style>\n",
              "    .colab-df-container {\n",
              "      display:flex;\n",
              "      gap: 12px;\n",
              "    }\n",
              "\n",
              "    .colab-df-convert {\n",
              "      background-color: #E8F0FE;\n",
              "      border: none;\n",
              "      border-radius: 50%;\n",
              "      cursor: pointer;\n",
              "      display: none;\n",
              "      fill: #1967D2;\n",
              "      height: 32px;\n",
              "      padding: 0 0 0 0;\n",
              "      width: 32px;\n",
              "    }\n",
              "\n",
              "    .colab-df-convert:hover {\n",
              "      background-color: #E2EBFA;\n",
              "      box-shadow: 0px 1px 2px rgba(60, 64, 67, 0.3), 0px 1px 3px 1px rgba(60, 64, 67, 0.15);\n",
              "      fill: #174EA6;\n",
              "    }\n",
              "\n",
              "    .colab-df-buttons div {\n",
              "      margin-bottom: 4px;\n",
              "    }\n",
              "\n",
              "    [theme=dark] .colab-df-convert {\n",
              "      background-color: #3B4455;\n",
              "      fill: #D2E3FC;\n",
              "    }\n",
              "\n",
              "    [theme=dark] .colab-df-convert:hover {\n",
              "      background-color: #434B5C;\n",
              "      box-shadow: 0px 1px 3px 1px rgba(0, 0, 0, 0.15);\n",
              "      filter: drop-shadow(0px 1px 2px rgba(0, 0, 0, 0.3));\n",
              "      fill: #FFFFFF;\n",
              "    }\n",
              "  </style>\n",
              "\n",
              "    <script>\n",
              "      const buttonEl =\n",
              "        document.querySelector('#df-97d9313a-1aac-4d34-b1eb-d3099cce7d22 button.colab-df-convert');\n",
              "      buttonEl.style.display =\n",
              "        google.colab.kernel.accessAllowed ? 'block' : 'none';\n",
              "\n",
              "      async function convertToInteractive(key) {\n",
              "        const element = document.querySelector('#df-97d9313a-1aac-4d34-b1eb-d3099cce7d22');\n",
              "        const dataTable =\n",
              "          await google.colab.kernel.invokeFunction('convertToInteractive',\n",
              "                                                    [key], {});\n",
              "        if (!dataTable) return;\n",
              "\n",
              "        const docLinkHtml = 'Like what you see? Visit the ' +\n",
              "          '<a target=\"_blank\" href=https://colab.research.google.com/notebooks/data_table.ipynb>data table notebook</a>'\n",
              "          + ' to learn more about interactive tables.';\n",
              "        element.innerHTML = '';\n",
              "        dataTable['output_type'] = 'display_data';\n",
              "        await google.colab.output.renderOutput(dataTable, element);\n",
              "        const docLink = document.createElement('div');\n",
              "        docLink.innerHTML = docLinkHtml;\n",
              "        element.appendChild(docLink);\n",
              "      }\n",
              "    </script>\n",
              "  </div>\n",
              "\n",
              "\n",
              "<div id=\"df-75fd45da-6982-41f9-8df4-90ec0e604548\">\n",
              "  <button class=\"colab-df-quickchart\" onclick=\"quickchart('df-75fd45da-6982-41f9-8df4-90ec0e604548')\"\n",
              "            title=\"Suggest charts\"\n",
              "            style=\"display:none;\">\n",
              "\n",
              "<svg xmlns=\"http://www.w3.org/2000/svg\" height=\"24px\"viewBox=\"0 0 24 24\"\n",
              "     width=\"24px\">\n",
              "    <g>\n",
              "        <path d=\"M19 3H5c-1.1 0-2 .9-2 2v14c0 1.1.9 2 2 2h14c1.1 0 2-.9 2-2V5c0-1.1-.9-2-2-2zM9 17H7v-7h2v7zm4 0h-2V7h2v10zm4 0h-2v-4h2v4z\"/>\n",
              "    </g>\n",
              "</svg>\n",
              "  </button>\n",
              "\n",
              "<style>\n",
              "  .colab-df-quickchart {\n",
              "      --bg-color: #E8F0FE;\n",
              "      --fill-color: #1967D2;\n",
              "      --hover-bg-color: #E2EBFA;\n",
              "      --hover-fill-color: #174EA6;\n",
              "      --disabled-fill-color: #AAA;\n",
              "      --disabled-bg-color: #DDD;\n",
              "  }\n",
              "\n",
              "  [theme=dark] .colab-df-quickchart {\n",
              "      --bg-color: #3B4455;\n",
              "      --fill-color: #D2E3FC;\n",
              "      --hover-bg-color: #434B5C;\n",
              "      --hover-fill-color: #FFFFFF;\n",
              "      --disabled-bg-color: #3B4455;\n",
              "      --disabled-fill-color: #666;\n",
              "  }\n",
              "\n",
              "  .colab-df-quickchart {\n",
              "    background-color: var(--bg-color);\n",
              "    border: none;\n",
              "    border-radius: 50%;\n",
              "    cursor: pointer;\n",
              "    display: none;\n",
              "    fill: var(--fill-color);\n",
              "    height: 32px;\n",
              "    padding: 0;\n",
              "    width: 32px;\n",
              "  }\n",
              "\n",
              "  .colab-df-quickchart:hover {\n",
              "    background-color: var(--hover-bg-color);\n",
              "    box-shadow: 0 1px 2px rgba(60, 64, 67, 0.3), 0 1px 3px 1px rgba(60, 64, 67, 0.15);\n",
              "    fill: var(--button-hover-fill-color);\n",
              "  }\n",
              "\n",
              "  .colab-df-quickchart-complete:disabled,\n",
              "  .colab-df-quickchart-complete:disabled:hover {\n",
              "    background-color: var(--disabled-bg-color);\n",
              "    fill: var(--disabled-fill-color);\n",
              "    box-shadow: none;\n",
              "  }\n",
              "\n",
              "  .colab-df-spinner {\n",
              "    border: 2px solid var(--fill-color);\n",
              "    border-color: transparent;\n",
              "    border-bottom-color: var(--fill-color);\n",
              "    animation:\n",
              "      spin 1s steps(1) infinite;\n",
              "  }\n",
              "\n",
              "  @keyframes spin {\n",
              "    0% {\n",
              "      border-color: transparent;\n",
              "      border-bottom-color: var(--fill-color);\n",
              "      border-left-color: var(--fill-color);\n",
              "    }\n",
              "    20% {\n",
              "      border-color: transparent;\n",
              "      border-left-color: var(--fill-color);\n",
              "      border-top-color: var(--fill-color);\n",
              "    }\n",
              "    30% {\n",
              "      border-color: transparent;\n",
              "      border-left-color: var(--fill-color);\n",
              "      border-top-color: var(--fill-color);\n",
              "      border-right-color: var(--fill-color);\n",
              "    }\n",
              "    40% {\n",
              "      border-color: transparent;\n",
              "      border-right-color: var(--fill-color);\n",
              "      border-top-color: var(--fill-color);\n",
              "    }\n",
              "    60% {\n",
              "      border-color: transparent;\n",
              "      border-right-color: var(--fill-color);\n",
              "    }\n",
              "    80% {\n",
              "      border-color: transparent;\n",
              "      border-right-color: var(--fill-color);\n",
              "      border-bottom-color: var(--fill-color);\n",
              "    }\n",
              "    90% {\n",
              "      border-color: transparent;\n",
              "      border-bottom-color: var(--fill-color);\n",
              "    }\n",
              "  }\n",
              "</style>\n",
              "\n",
              "  <script>\n",
              "    async function quickchart(key) {\n",
              "      const quickchartButtonEl =\n",
              "        document.querySelector('#' + key + ' button');\n",
              "      quickchartButtonEl.disabled = true;  // To prevent multiple clicks.\n",
              "      quickchartButtonEl.classList.add('colab-df-spinner');\n",
              "      try {\n",
              "        const charts = await google.colab.kernel.invokeFunction(\n",
              "            'suggestCharts', [key], {});\n",
              "      } catch (error) {\n",
              "        console.error('Error during call to suggestCharts:', error);\n",
              "      }\n",
              "      quickchartButtonEl.classList.remove('colab-df-spinner');\n",
              "      quickchartButtonEl.classList.add('colab-df-quickchart-complete');\n",
              "    }\n",
              "    (() => {\n",
              "      let quickchartButtonEl =\n",
              "        document.querySelector('#df-75fd45da-6982-41f9-8df4-90ec0e604548 button');\n",
              "      quickchartButtonEl.style.display =\n",
              "        google.colab.kernel.accessAllowed ? 'block' : 'none';\n",
              "    })();\n",
              "  </script>\n",
              "</div>\n",
              "\n",
              "    </div>\n",
              "  </div>\n"
            ],
            "application/vnd.google.colaboratory.intrinsic+json": {
              "type": "dataframe",
              "variable_name": "data"
            }
          },
          "metadata": {},
          "execution_count": 132
        }
      ],
      "source": [
        "import pandas as pd\n",
        "data = pd.read_csv(\"/content/HRdata.csv\")\n",
        "data.head()"
      ]
    },
    {
      "cell_type": "code",
      "source": [
        "data.info()"
      ],
      "metadata": {
        "colab": {
          "base_uri": "https://localhost:8080/"
        },
        "id": "jHEwi3Ws-9PM",
        "outputId": "044cd76c-3ec1-4cb2-910f-e2177227ad85"
      },
      "execution_count": 133,
      "outputs": [
        {
          "output_type": "stream",
          "name": "stdout",
          "text": [
            "<class 'pandas.core.frame.DataFrame'>\n",
            "RangeIndex: 1470 entries, 0 to 1469\n",
            "Data columns (total 39 columns):\n",
            " #   Column                      Non-Null Count  Dtype \n",
            "---  ------                      --------------  ----- \n",
            " 0   Attrition                   1470 non-null   object\n",
            " 1   Business Travel             1470 non-null   object\n",
            " 2   CF_age band                 1470 non-null   object\n",
            " 3   CF_attrition label          1470 non-null   object\n",
            " 4   Department                  1470 non-null   object\n",
            " 5   Education Field             1470 non-null   object\n",
            " 6   emp no                      1470 non-null   object\n",
            " 7   Employee Number             1470 non-null   int64 \n",
            " 8   Gender                      1470 non-null   object\n",
            " 9   Job Role                    1470 non-null   object\n",
            " 10  Marital Status              1470 non-null   object\n",
            " 11  Over Time                   1470 non-null   object\n",
            " 12  Over18                      1470 non-null   object\n",
            " 13  Training Times Last Year    1470 non-null   int64 \n",
            " 14  Age                         1470 non-null   int64 \n",
            " 15  CF_current Employee         1470 non-null   int64 \n",
            " 16  Daily Rate                  1470 non-null   int64 \n",
            " 17  Distance From Home          1470 non-null   int64 \n",
            " 18  Education                   1470 non-null   object\n",
            " 19  Employee Count              1470 non-null   int64 \n",
            " 20  Environment Satisfaction    1470 non-null   int64 \n",
            " 21  Hourly Rate                 1470 non-null   int64 \n",
            " 22  Job Involvement             1470 non-null   int64 \n",
            " 23  Job Level                   1470 non-null   int64 \n",
            " 24  Job Satisfaction            1470 non-null   int64 \n",
            " 25  Monthly Income              1470 non-null   int64 \n",
            " 26  Monthly Rate                1470 non-null   int64 \n",
            " 27  Num Companies Worked        1470 non-null   int64 \n",
            " 28  Percent Salary Hike         1470 non-null   int64 \n",
            " 29  Performance Rating          1470 non-null   int64 \n",
            " 30  Relationship Satisfaction   1470 non-null   int64 \n",
            " 31  Standard Hours              1470 non-null   int64 \n",
            " 32  Stock Option Level          1470 non-null   int64 \n",
            " 33  Total Working Years         1470 non-null   int64 \n",
            " 34  Work Life Balance           1470 non-null   int64 \n",
            " 35  Years At Company            1470 non-null   int64 \n",
            " 36  Years In Current Role       1470 non-null   int64 \n",
            " 37  Years Since Last Promotion  1470 non-null   int64 \n",
            " 38  Years With Curr Manager     1470 non-null   int64 \n",
            "dtypes: int64(26), object(13)\n",
            "memory usage: 448.0+ KB\n"
          ]
        }
      ]
    },
    {
      "cell_type": "code",
      "source": [
        "data.describe()"
      ],
      "metadata": {
        "colab": {
          "base_uri": "https://localhost:8080/",
          "height": 402
        },
        "id": "id8xsThE-_TW",
        "outputId": "d1f2be6b-0801-4dca-b2c9-cfe6e3a9d36e"
      },
      "execution_count": 134,
      "outputs": [
        {
          "output_type": "execute_result",
          "data": {
            "text/plain": [
              "       Employee Number  Training Times Last Year          Age  \\\n",
              "count      1470.000000               1470.000000  1470.000000   \n",
              "mean       1024.865306                  2.799320    36.923810   \n",
              "std         602.024335                  1.289271     9.135373   \n",
              "min           1.000000                  0.000000    18.000000   \n",
              "25%         491.250000                  2.000000    30.000000   \n",
              "50%        1020.500000                  3.000000    36.000000   \n",
              "75%        1555.750000                  3.000000    43.000000   \n",
              "max        2068.000000                  6.000000    60.000000   \n",
              "\n",
              "       CF_current Employee   Daily Rate  Distance From Home  Employee Count  \\\n",
              "count          1470.000000  1470.000000         1470.000000          1470.0   \n",
              "mean              0.838776   802.485714            9.192517             1.0   \n",
              "std               0.367863   403.509100            8.106864             0.0   \n",
              "min               0.000000   102.000000            1.000000             1.0   \n",
              "25%               1.000000   465.000000            2.000000             1.0   \n",
              "50%               1.000000   802.000000            7.000000             1.0   \n",
              "75%               1.000000  1157.000000           14.000000             1.0   \n",
              "max               1.000000  1499.000000           29.000000             1.0   \n",
              "\n",
              "       Environment Satisfaction  Hourly Rate  Job Involvement  ...  \\\n",
              "count               1470.000000  1470.000000      1470.000000  ...   \n",
              "mean                   2.721769    65.891156         2.729932  ...   \n",
              "std                    1.093082    20.329428         0.711561  ...   \n",
              "min                    1.000000    30.000000         1.000000  ...   \n",
              "25%                    2.000000    48.000000         2.000000  ...   \n",
              "50%                    3.000000    66.000000         3.000000  ...   \n",
              "75%                    4.000000    83.750000         3.000000  ...   \n",
              "max                    4.000000   100.000000         4.000000  ...   \n",
              "\n",
              "       Performance Rating  Relationship Satisfaction  Standard Hours  \\\n",
              "count         1470.000000                1470.000000          1470.0   \n",
              "mean             3.153741                   2.712245            80.0   \n",
              "std              0.360824                   1.081209             0.0   \n",
              "min              3.000000                   1.000000            80.0   \n",
              "25%              3.000000                   2.000000            80.0   \n",
              "50%              3.000000                   3.000000            80.0   \n",
              "75%              3.000000                   4.000000            80.0   \n",
              "max              4.000000                   4.000000            80.0   \n",
              "\n",
              "       Stock Option Level  Total Working Years  Work Life Balance  \\\n",
              "count         1470.000000          1470.000000        1470.000000   \n",
              "mean             0.793878            11.279592           2.761224   \n",
              "std              0.852077             7.780782           0.706476   \n",
              "min              0.000000             0.000000           1.000000   \n",
              "25%              0.000000             6.000000           2.000000   \n",
              "50%              1.000000            10.000000           3.000000   \n",
              "75%              1.000000            15.000000           3.000000   \n",
              "max              3.000000            40.000000           4.000000   \n",
              "\n",
              "       Years At Company  Years In Current Role  Years Since Last Promotion  \\\n",
              "count       1470.000000            1470.000000                 1470.000000   \n",
              "mean           7.008163               4.229252                    2.187755   \n",
              "std            6.126525               3.623137                    3.222430   \n",
              "min            0.000000               0.000000                    0.000000   \n",
              "25%            3.000000               2.000000                    0.000000   \n",
              "50%            5.000000               3.000000                    1.000000   \n",
              "75%            9.000000               7.000000                    3.000000   \n",
              "max           40.000000              18.000000                   15.000000   \n",
              "\n",
              "       Years With Curr Manager  \n",
              "count              1470.000000  \n",
              "mean                  4.123129  \n",
              "std                   3.568136  \n",
              "min                   0.000000  \n",
              "25%                   2.000000  \n",
              "50%                   3.000000  \n",
              "75%                   7.000000  \n",
              "max                  17.000000  \n",
              "\n",
              "[8 rows x 26 columns]"
            ],
            "text/html": [
              "\n",
              "  <div id=\"df-58b833dd-8e70-4180-a9e7-3e1f5a905049\" class=\"colab-df-container\">\n",
              "    <div>\n",
              "<style scoped>\n",
              "    .dataframe tbody tr th:only-of-type {\n",
              "        vertical-align: middle;\n",
              "    }\n",
              "\n",
              "    .dataframe tbody tr th {\n",
              "        vertical-align: top;\n",
              "    }\n",
              "\n",
              "    .dataframe thead th {\n",
              "        text-align: right;\n",
              "    }\n",
              "</style>\n",
              "<table border=\"1\" class=\"dataframe\">\n",
              "  <thead>\n",
              "    <tr style=\"text-align: right;\">\n",
              "      <th></th>\n",
              "      <th>Employee Number</th>\n",
              "      <th>Training Times Last Year</th>\n",
              "      <th>Age</th>\n",
              "      <th>CF_current Employee</th>\n",
              "      <th>Daily Rate</th>\n",
              "      <th>Distance From Home</th>\n",
              "      <th>Employee Count</th>\n",
              "      <th>Environment Satisfaction</th>\n",
              "      <th>Hourly Rate</th>\n",
              "      <th>Job Involvement</th>\n",
              "      <th>...</th>\n",
              "      <th>Performance Rating</th>\n",
              "      <th>Relationship Satisfaction</th>\n",
              "      <th>Standard Hours</th>\n",
              "      <th>Stock Option Level</th>\n",
              "      <th>Total Working Years</th>\n",
              "      <th>Work Life Balance</th>\n",
              "      <th>Years At Company</th>\n",
              "      <th>Years In Current Role</th>\n",
              "      <th>Years Since Last Promotion</th>\n",
              "      <th>Years With Curr Manager</th>\n",
              "    </tr>\n",
              "  </thead>\n",
              "  <tbody>\n",
              "    <tr>\n",
              "      <th>count</th>\n",
              "      <td>1470.000000</td>\n",
              "      <td>1470.000000</td>\n",
              "      <td>1470.000000</td>\n",
              "      <td>1470.000000</td>\n",
              "      <td>1470.000000</td>\n",
              "      <td>1470.000000</td>\n",
              "      <td>1470.0</td>\n",
              "      <td>1470.000000</td>\n",
              "      <td>1470.000000</td>\n",
              "      <td>1470.000000</td>\n",
              "      <td>...</td>\n",
              "      <td>1470.000000</td>\n",
              "      <td>1470.000000</td>\n",
              "      <td>1470.0</td>\n",
              "      <td>1470.000000</td>\n",
              "      <td>1470.000000</td>\n",
              "      <td>1470.000000</td>\n",
              "      <td>1470.000000</td>\n",
              "      <td>1470.000000</td>\n",
              "      <td>1470.000000</td>\n",
              "      <td>1470.000000</td>\n",
              "    </tr>\n",
              "    <tr>\n",
              "      <th>mean</th>\n",
              "      <td>1024.865306</td>\n",
              "      <td>2.799320</td>\n",
              "      <td>36.923810</td>\n",
              "      <td>0.838776</td>\n",
              "      <td>802.485714</td>\n",
              "      <td>9.192517</td>\n",
              "      <td>1.0</td>\n",
              "      <td>2.721769</td>\n",
              "      <td>65.891156</td>\n",
              "      <td>2.729932</td>\n",
              "      <td>...</td>\n",
              "      <td>3.153741</td>\n",
              "      <td>2.712245</td>\n",
              "      <td>80.0</td>\n",
              "      <td>0.793878</td>\n",
              "      <td>11.279592</td>\n",
              "      <td>2.761224</td>\n",
              "      <td>7.008163</td>\n",
              "      <td>4.229252</td>\n",
              "      <td>2.187755</td>\n",
              "      <td>4.123129</td>\n",
              "    </tr>\n",
              "    <tr>\n",
              "      <th>std</th>\n",
              "      <td>602.024335</td>\n",
              "      <td>1.289271</td>\n",
              "      <td>9.135373</td>\n",
              "      <td>0.367863</td>\n",
              "      <td>403.509100</td>\n",
              "      <td>8.106864</td>\n",
              "      <td>0.0</td>\n",
              "      <td>1.093082</td>\n",
              "      <td>20.329428</td>\n",
              "      <td>0.711561</td>\n",
              "      <td>...</td>\n",
              "      <td>0.360824</td>\n",
              "      <td>1.081209</td>\n",
              "      <td>0.0</td>\n",
              "      <td>0.852077</td>\n",
              "      <td>7.780782</td>\n",
              "      <td>0.706476</td>\n",
              "      <td>6.126525</td>\n",
              "      <td>3.623137</td>\n",
              "      <td>3.222430</td>\n",
              "      <td>3.568136</td>\n",
              "    </tr>\n",
              "    <tr>\n",
              "      <th>min</th>\n",
              "      <td>1.000000</td>\n",
              "      <td>0.000000</td>\n",
              "      <td>18.000000</td>\n",
              "      <td>0.000000</td>\n",
              "      <td>102.000000</td>\n",
              "      <td>1.000000</td>\n",
              "      <td>1.0</td>\n",
              "      <td>1.000000</td>\n",
              "      <td>30.000000</td>\n",
              "      <td>1.000000</td>\n",
              "      <td>...</td>\n",
              "      <td>3.000000</td>\n",
              "      <td>1.000000</td>\n",
              "      <td>80.0</td>\n",
              "      <td>0.000000</td>\n",
              "      <td>0.000000</td>\n",
              "      <td>1.000000</td>\n",
              "      <td>0.000000</td>\n",
              "      <td>0.000000</td>\n",
              "      <td>0.000000</td>\n",
              "      <td>0.000000</td>\n",
              "    </tr>\n",
              "    <tr>\n",
              "      <th>25%</th>\n",
              "      <td>491.250000</td>\n",
              "      <td>2.000000</td>\n",
              "      <td>30.000000</td>\n",
              "      <td>1.000000</td>\n",
              "      <td>465.000000</td>\n",
              "      <td>2.000000</td>\n",
              "      <td>1.0</td>\n",
              "      <td>2.000000</td>\n",
              "      <td>48.000000</td>\n",
              "      <td>2.000000</td>\n",
              "      <td>...</td>\n",
              "      <td>3.000000</td>\n",
              "      <td>2.000000</td>\n",
              "      <td>80.0</td>\n",
              "      <td>0.000000</td>\n",
              "      <td>6.000000</td>\n",
              "      <td>2.000000</td>\n",
              "      <td>3.000000</td>\n",
              "      <td>2.000000</td>\n",
              "      <td>0.000000</td>\n",
              "      <td>2.000000</td>\n",
              "    </tr>\n",
              "    <tr>\n",
              "      <th>50%</th>\n",
              "      <td>1020.500000</td>\n",
              "      <td>3.000000</td>\n",
              "      <td>36.000000</td>\n",
              "      <td>1.000000</td>\n",
              "      <td>802.000000</td>\n",
              "      <td>7.000000</td>\n",
              "      <td>1.0</td>\n",
              "      <td>3.000000</td>\n",
              "      <td>66.000000</td>\n",
              "      <td>3.000000</td>\n",
              "      <td>...</td>\n",
              "      <td>3.000000</td>\n",
              "      <td>3.000000</td>\n",
              "      <td>80.0</td>\n",
              "      <td>1.000000</td>\n",
              "      <td>10.000000</td>\n",
              "      <td>3.000000</td>\n",
              "      <td>5.000000</td>\n",
              "      <td>3.000000</td>\n",
              "      <td>1.000000</td>\n",
              "      <td>3.000000</td>\n",
              "    </tr>\n",
              "    <tr>\n",
              "      <th>75%</th>\n",
              "      <td>1555.750000</td>\n",
              "      <td>3.000000</td>\n",
              "      <td>43.000000</td>\n",
              "      <td>1.000000</td>\n",
              "      <td>1157.000000</td>\n",
              "      <td>14.000000</td>\n",
              "      <td>1.0</td>\n",
              "      <td>4.000000</td>\n",
              "      <td>83.750000</td>\n",
              "      <td>3.000000</td>\n",
              "      <td>...</td>\n",
              "      <td>3.000000</td>\n",
              "      <td>4.000000</td>\n",
              "      <td>80.0</td>\n",
              "      <td>1.000000</td>\n",
              "      <td>15.000000</td>\n",
              "      <td>3.000000</td>\n",
              "      <td>9.000000</td>\n",
              "      <td>7.000000</td>\n",
              "      <td>3.000000</td>\n",
              "      <td>7.000000</td>\n",
              "    </tr>\n",
              "    <tr>\n",
              "      <th>max</th>\n",
              "      <td>2068.000000</td>\n",
              "      <td>6.000000</td>\n",
              "      <td>60.000000</td>\n",
              "      <td>1.000000</td>\n",
              "      <td>1499.000000</td>\n",
              "      <td>29.000000</td>\n",
              "      <td>1.0</td>\n",
              "      <td>4.000000</td>\n",
              "      <td>100.000000</td>\n",
              "      <td>4.000000</td>\n",
              "      <td>...</td>\n",
              "      <td>4.000000</td>\n",
              "      <td>4.000000</td>\n",
              "      <td>80.0</td>\n",
              "      <td>3.000000</td>\n",
              "      <td>40.000000</td>\n",
              "      <td>4.000000</td>\n",
              "      <td>40.000000</td>\n",
              "      <td>18.000000</td>\n",
              "      <td>15.000000</td>\n",
              "      <td>17.000000</td>\n",
              "    </tr>\n",
              "  </tbody>\n",
              "</table>\n",
              "<p>8 rows × 26 columns</p>\n",
              "</div>\n",
              "    <div class=\"colab-df-buttons\">\n",
              "\n",
              "  <div class=\"colab-df-container\">\n",
              "    <button class=\"colab-df-convert\" onclick=\"convertToInteractive('df-58b833dd-8e70-4180-a9e7-3e1f5a905049')\"\n",
              "            title=\"Convert this dataframe to an interactive table.\"\n",
              "            style=\"display:none;\">\n",
              "\n",
              "  <svg xmlns=\"http://www.w3.org/2000/svg\" height=\"24px\" viewBox=\"0 -960 960 960\">\n",
              "    <path d=\"M120-120v-720h720v720H120Zm60-500h600v-160H180v160Zm220 220h160v-160H400v160Zm0 220h160v-160H400v160ZM180-400h160v-160H180v160Zm440 0h160v-160H620v160ZM180-180h160v-160H180v160Zm440 0h160v-160H620v160Z\"/>\n",
              "  </svg>\n",
              "    </button>\n",
              "\n",
              "  <style>\n",
              "    .colab-df-container {\n",
              "      display:flex;\n",
              "      gap: 12px;\n",
              "    }\n",
              "\n",
              "    .colab-df-convert {\n",
              "      background-color: #E8F0FE;\n",
              "      border: none;\n",
              "      border-radius: 50%;\n",
              "      cursor: pointer;\n",
              "      display: none;\n",
              "      fill: #1967D2;\n",
              "      height: 32px;\n",
              "      padding: 0 0 0 0;\n",
              "      width: 32px;\n",
              "    }\n",
              "\n",
              "    .colab-df-convert:hover {\n",
              "      background-color: #E2EBFA;\n",
              "      box-shadow: 0px 1px 2px rgba(60, 64, 67, 0.3), 0px 1px 3px 1px rgba(60, 64, 67, 0.15);\n",
              "      fill: #174EA6;\n",
              "    }\n",
              "\n",
              "    .colab-df-buttons div {\n",
              "      margin-bottom: 4px;\n",
              "    }\n",
              "\n",
              "    [theme=dark] .colab-df-convert {\n",
              "      background-color: #3B4455;\n",
              "      fill: #D2E3FC;\n",
              "    }\n",
              "\n",
              "    [theme=dark] .colab-df-convert:hover {\n",
              "      background-color: #434B5C;\n",
              "      box-shadow: 0px 1px 3px 1px rgba(0, 0, 0, 0.15);\n",
              "      filter: drop-shadow(0px 1px 2px rgba(0, 0, 0, 0.3));\n",
              "      fill: #FFFFFF;\n",
              "    }\n",
              "  </style>\n",
              "\n",
              "    <script>\n",
              "      const buttonEl =\n",
              "        document.querySelector('#df-58b833dd-8e70-4180-a9e7-3e1f5a905049 button.colab-df-convert');\n",
              "      buttonEl.style.display =\n",
              "        google.colab.kernel.accessAllowed ? 'block' : 'none';\n",
              "\n",
              "      async function convertToInteractive(key) {\n",
              "        const element = document.querySelector('#df-58b833dd-8e70-4180-a9e7-3e1f5a905049');\n",
              "        const dataTable =\n",
              "          await google.colab.kernel.invokeFunction('convertToInteractive',\n",
              "                                                    [key], {});\n",
              "        if (!dataTable) return;\n",
              "\n",
              "        const docLinkHtml = 'Like what you see? Visit the ' +\n",
              "          '<a target=\"_blank\" href=https://colab.research.google.com/notebooks/data_table.ipynb>data table notebook</a>'\n",
              "          + ' to learn more about interactive tables.';\n",
              "        element.innerHTML = '';\n",
              "        dataTable['output_type'] = 'display_data';\n",
              "        await google.colab.output.renderOutput(dataTable, element);\n",
              "        const docLink = document.createElement('div');\n",
              "        docLink.innerHTML = docLinkHtml;\n",
              "        element.appendChild(docLink);\n",
              "      }\n",
              "    </script>\n",
              "  </div>\n",
              "\n",
              "\n",
              "<div id=\"df-cdd790e6-9c9a-4506-b0d7-1863a585d641\">\n",
              "  <button class=\"colab-df-quickchart\" onclick=\"quickchart('df-cdd790e6-9c9a-4506-b0d7-1863a585d641')\"\n",
              "            title=\"Suggest charts\"\n",
              "            style=\"display:none;\">\n",
              "\n",
              "<svg xmlns=\"http://www.w3.org/2000/svg\" height=\"24px\"viewBox=\"0 0 24 24\"\n",
              "     width=\"24px\">\n",
              "    <g>\n",
              "        <path d=\"M19 3H5c-1.1 0-2 .9-2 2v14c0 1.1.9 2 2 2h14c1.1 0 2-.9 2-2V5c0-1.1-.9-2-2-2zM9 17H7v-7h2v7zm4 0h-2V7h2v10zm4 0h-2v-4h2v4z\"/>\n",
              "    </g>\n",
              "</svg>\n",
              "  </button>\n",
              "\n",
              "<style>\n",
              "  .colab-df-quickchart {\n",
              "      --bg-color: #E8F0FE;\n",
              "      --fill-color: #1967D2;\n",
              "      --hover-bg-color: #E2EBFA;\n",
              "      --hover-fill-color: #174EA6;\n",
              "      --disabled-fill-color: #AAA;\n",
              "      --disabled-bg-color: #DDD;\n",
              "  }\n",
              "\n",
              "  [theme=dark] .colab-df-quickchart {\n",
              "      --bg-color: #3B4455;\n",
              "      --fill-color: #D2E3FC;\n",
              "      --hover-bg-color: #434B5C;\n",
              "      --hover-fill-color: #FFFFFF;\n",
              "      --disabled-bg-color: #3B4455;\n",
              "      --disabled-fill-color: #666;\n",
              "  }\n",
              "\n",
              "  .colab-df-quickchart {\n",
              "    background-color: var(--bg-color);\n",
              "    border: none;\n",
              "    border-radius: 50%;\n",
              "    cursor: pointer;\n",
              "    display: none;\n",
              "    fill: var(--fill-color);\n",
              "    height: 32px;\n",
              "    padding: 0;\n",
              "    width: 32px;\n",
              "  }\n",
              "\n",
              "  .colab-df-quickchart:hover {\n",
              "    background-color: var(--hover-bg-color);\n",
              "    box-shadow: 0 1px 2px rgba(60, 64, 67, 0.3), 0 1px 3px 1px rgba(60, 64, 67, 0.15);\n",
              "    fill: var(--button-hover-fill-color);\n",
              "  }\n",
              "\n",
              "  .colab-df-quickchart-complete:disabled,\n",
              "  .colab-df-quickchart-complete:disabled:hover {\n",
              "    background-color: var(--disabled-bg-color);\n",
              "    fill: var(--disabled-fill-color);\n",
              "    box-shadow: none;\n",
              "  }\n",
              "\n",
              "  .colab-df-spinner {\n",
              "    border: 2px solid var(--fill-color);\n",
              "    border-color: transparent;\n",
              "    border-bottom-color: var(--fill-color);\n",
              "    animation:\n",
              "      spin 1s steps(1) infinite;\n",
              "  }\n",
              "\n",
              "  @keyframes spin {\n",
              "    0% {\n",
              "      border-color: transparent;\n",
              "      border-bottom-color: var(--fill-color);\n",
              "      border-left-color: var(--fill-color);\n",
              "    }\n",
              "    20% {\n",
              "      border-color: transparent;\n",
              "      border-left-color: var(--fill-color);\n",
              "      border-top-color: var(--fill-color);\n",
              "    }\n",
              "    30% {\n",
              "      border-color: transparent;\n",
              "      border-left-color: var(--fill-color);\n",
              "      border-top-color: var(--fill-color);\n",
              "      border-right-color: var(--fill-color);\n",
              "    }\n",
              "    40% {\n",
              "      border-color: transparent;\n",
              "      border-right-color: var(--fill-color);\n",
              "      border-top-color: var(--fill-color);\n",
              "    }\n",
              "    60% {\n",
              "      border-color: transparent;\n",
              "      border-right-color: var(--fill-color);\n",
              "    }\n",
              "    80% {\n",
              "      border-color: transparent;\n",
              "      border-right-color: var(--fill-color);\n",
              "      border-bottom-color: var(--fill-color);\n",
              "    }\n",
              "    90% {\n",
              "      border-color: transparent;\n",
              "      border-bottom-color: var(--fill-color);\n",
              "    }\n",
              "  }\n",
              "</style>\n",
              "\n",
              "  <script>\n",
              "    async function quickchart(key) {\n",
              "      const quickchartButtonEl =\n",
              "        document.querySelector('#' + key + ' button');\n",
              "      quickchartButtonEl.disabled = true;  // To prevent multiple clicks.\n",
              "      quickchartButtonEl.classList.add('colab-df-spinner');\n",
              "      try {\n",
              "        const charts = await google.colab.kernel.invokeFunction(\n",
              "            'suggestCharts', [key], {});\n",
              "      } catch (error) {\n",
              "        console.error('Error during call to suggestCharts:', error);\n",
              "      }\n",
              "      quickchartButtonEl.classList.remove('colab-df-spinner');\n",
              "      quickchartButtonEl.classList.add('colab-df-quickchart-complete');\n",
              "    }\n",
              "    (() => {\n",
              "      let quickchartButtonEl =\n",
              "        document.querySelector('#df-cdd790e6-9c9a-4506-b0d7-1863a585d641 button');\n",
              "      quickchartButtonEl.style.display =\n",
              "        google.colab.kernel.accessAllowed ? 'block' : 'none';\n",
              "    })();\n",
              "  </script>\n",
              "</div>\n",
              "\n",
              "    </div>\n",
              "  </div>\n"
            ],
            "application/vnd.google.colaboratory.intrinsic+json": {
              "type": "dataframe"
            }
          },
          "metadata": {},
          "execution_count": 134
        }
      ]
    },
    {
      "cell_type": "code",
      "source": [
        "for idx, col in enumerate(data.columns):\n",
        "    print(f\"{idx}: {col}: {data[col].nunique()}\")"
      ],
      "metadata": {
        "colab": {
          "base_uri": "https://localhost:8080/"
        },
        "id": "2Cf6pPWoAT1d",
        "outputId": "28e62691-cb33-44dc-c794-363011e57930"
      },
      "execution_count": 135,
      "outputs": [
        {
          "output_type": "stream",
          "name": "stdout",
          "text": [
            "0: Attrition: 2\n",
            "1: Business Travel: 3\n",
            "2: CF_age band: 5\n",
            "3: CF_attrition label: 2\n",
            "4: Department: 3\n",
            "5: Education Field: 6\n",
            "6: emp no: 1470\n",
            "7: Employee Number: 1470\n",
            "8: Gender: 2\n",
            "9: Job Role: 9\n",
            "10: Marital Status: 3\n",
            "11: Over Time: 2\n",
            "12: Over18: 1\n",
            "13: Training Times Last Year: 7\n",
            "14: Age: 43\n",
            "15: CF_current Employee: 2\n",
            "16: Daily Rate: 886\n",
            "17: Distance From Home: 29\n",
            "18: Education: 5\n",
            "19: Employee Count: 1\n",
            "20: Environment Satisfaction: 4\n",
            "21: Hourly Rate: 71\n",
            "22: Job Involvement: 4\n",
            "23: Job Level: 5\n",
            "24: Job Satisfaction: 4\n",
            "25: Monthly Income: 1349\n",
            "26: Monthly Rate: 1427\n",
            "27: Num Companies Worked: 10\n",
            "28: Percent Salary Hike: 15\n",
            "29: Performance Rating: 2\n",
            "30: Relationship Satisfaction: 4\n",
            "31: Standard Hours: 1\n",
            "32: Stock Option Level: 4\n",
            "33: Total Working Years: 40\n",
            "34: Work Life Balance: 4\n",
            "35: Years At Company: 37\n",
            "36: Years In Current Role: 19\n",
            "37: Years Since Last Promotion: 16\n",
            "38: Years With Curr Manager: 18\n"
          ]
        }
      ]
    },
    {
      "cell_type": "code",
      "source": [
        "data.Department.unique()"
      ],
      "metadata": {
        "colab": {
          "base_uri": "https://localhost:8080/"
        },
        "id": "axyYFJrABQ8q",
        "outputId": "2d39c223-ce52-498c-b31e-127a9d9c33e9"
      },
      "execution_count": 136,
      "outputs": [
        {
          "output_type": "execute_result",
          "data": {
            "text/plain": [
              "array(['Sales', 'R&D', 'HR'], dtype=object)"
            ]
          },
          "metadata": {},
          "execution_count": 136
        }
      ]
    },
    {
      "cell_type": "code",
      "source": [
        "Sales = data[data['Department'] == 'Sales']\n",
        "R_D = data[data['Department'] == 'R&D']\n",
        "HR = data[data['Department'] == 'HR']\n",
        "\n",
        "print(f\"Total Number of employees: {data.shape[0]}\")\n",
        "print(f\"Total Attrition Count: {data[data['Attrition'] == 'Yes'].shape[0]}\")\n",
        "print(f\"Total Active Employees: {data[data['CF_attrition label'] == 'Yes'].shape[0]}\")\n",
        "print(f\"Attrition rate: {round((data[data['Attrition'] == 'Yes'].shape[0]/data[data['Attrition'] == 'No'].shape[0]) * 100,2)}\")\n",
        "print(f\"Number of employees in Sales: {Sales.shape[0]}\")\n",
        "print(f\"Active Employees in Sales: {Sales[Sales['CF_attrition label'] == 'Yes'].shape[0]}\")\n",
        "print(f\"Attrition Count in Sales: {Sales[Sales['Attrition'] == 'Yes'].shape[0]}\")\n",
        "print(f\"Attrition rate in Sales: {round((Sales[Sales['Attrition'] == 'Yes'].shape[0]/Sales[Sales['Attrition'] == 'No'].shape[0]) * 100,2)}\")\n",
        "print(f\"Number of employees in R&D: {R_D.shape[0]}\")\n",
        "print(f\"Active Employees in R&D: {R_D[R_D['CF_attrition label'] == 'Yes'].shape[0]}\")\n",
        "print(f\"Attrition Count in R&D: {R_D[R_D['Attrition'] == 'Yes'].shape[0]}\")\n",
        "print(f\"Attrition rate in R&D: {round((R_D[R_D['Attrition'] == 'Yes'].shape[0]/R_D[R_D['Attrition'] == 'No'].shape[0]) * 100,2)}\")\n",
        "print(f\"Number of employees in HR: {HR.shape[0]}\")\n",
        "print(f\"Active Employees in HR: {HR[HR['CF_attrition label'] == 'Yes'].shape[0]}\")\n",
        "print(f\"Attrition Count in HR: {HR[HR['Attrition'] == 'Yes'].shape[0]}\")\n",
        "print(f\"Attrition rate in HR: {round((HR[HR['Attrition'] == 'Yes'].shape[0]/HR[HR['Attrition'] == 'No'].shape[0]) * 100,2)}\")"
      ],
      "metadata": {
        "colab": {
          "base_uri": "https://localhost:8080/"
        },
        "id": "XzNWG3kqBiTn",
        "outputId": "0731215c-9c74-44fb-aa46-7948ba543899"
      },
      "execution_count": 137,
      "outputs": [
        {
          "output_type": "stream",
          "name": "stdout",
          "text": [
            "Total Number of employees: 1470\n",
            "Total Attrition Count: 237\n",
            "Total Active Employees: 0\n",
            "Attrition rate: 19.22\n",
            "Number of employees in Sales: 446\n",
            "Active Employees in Sales: 0\n",
            "Attrition Count in Sales: 92\n",
            "Attrition rate in Sales: 25.99\n",
            "Number of employees in R&D: 961\n",
            "Active Employees in R&D: 0\n",
            "Attrition Count in R&D: 133\n",
            "Attrition rate in R&D: 16.06\n",
            "Number of employees in HR: 63\n",
            "Active Employees in HR: 0\n",
            "Attrition Count in HR: 12\n",
            "Attrition rate in HR: 23.53\n"
          ]
        }
      ]
    },
    {
      "cell_type": "code",
      "source": [
        "print(f\"Male employees: {data[data['Gender'] == 'Male'].shape[0]}\")\n",
        "print(f\"Female employees: {data[data['Gender'] == 'Female'].shape[0]}\")\n",
        "print(f\"Male employees in Sales: {Sales[Sales['Gender'] == 'Male'].shape[0]}\")\n",
        "print(f\"Female employees in Sales: {Sales[Sales['Gender'] == 'Female'].shape[0]}\")\n",
        "print(f\"Male employees in R_D: {R_D[R_D['Gender'] == 'Male'].shape[0]}\")\n",
        "print(f\"Female employees in R_D: {R_D[R_D['Gender'] == 'Female'].shape[0]}\")\n",
        "print(f\"Male employees in HR: {data[data['Gender'] == 'Male'].shape[0]}\")\n",
        "print(f\"Female employees in HR: {data[data['Gender'] == 'Female'].shape[0]}\")"
      ],
      "metadata": {
        "colab": {
          "base_uri": "https://localhost:8080/"
        },
        "id": "rspM5uZ6C-TS",
        "outputId": "59912814-1e92-45a2-f913-7ad53c765e6a"
      },
      "execution_count": 138,
      "outputs": [
        {
          "output_type": "stream",
          "name": "stdout",
          "text": [
            "Male employees: 882\n",
            "Female employees: 588\n",
            "Male employees in Sales: 257\n",
            "Female employees in Sales: 189\n",
            "Male employees in R_D: 582\n",
            "Female employees in R_D: 379\n",
            "Male employees in HR: 882\n",
            "Female employees in HR: 588\n"
          ]
        }
      ]
    },
    {
      "cell_type": "code",
      "source": [
        "data['Marital Status'].unique()"
      ],
      "metadata": {
        "colab": {
          "base_uri": "https://localhost:8080/"
        },
        "id": "KBzu3vdbGWY6",
        "outputId": "4990b969-d477-4b52-80fa-8538fa92883a"
      },
      "execution_count": 139,
      "outputs": [
        {
          "output_type": "execute_result",
          "data": {
            "text/plain": [
              "array(['Single', 'Married', 'Divorced'], dtype=object)"
            ]
          },
          "metadata": {},
          "execution_count": 139
        }
      ]
    },
    {
      "cell_type": "code",
      "source": [
        "print(f\"Male employees: {data[data['Gender'] == 'Male'].shape[0]}\")\n",
        "print(f\"Female employees: {data[data['Gender'] == 'Female'].shape[0]}\")\n",
        "print(f\"Male employees in Sales: {Sales[Sales['Gender'] == 'Male'].shape[0]}\")\n",
        "print(f\"Female employees in Sales: {Sales[Sales['Gender'] == 'Female'].shape[0]}\")\n",
        "print(f\"Male employees in R_D: {R_D[R_D['Gender'] == 'Male'].shape[0]}\")\n",
        "print(f\"Female employees in R_D: {R_D[R_D['Gender'] == 'Female'].shape[0]}\")\n",
        "print(f\"Male employees in HR: {data[data['Gender'] == 'Male'].shape[0]}\")\n",
        "print(f\"Female employees in HR: {data[data['Gender'] == 'Female'].shape[0]}\")"
      ],
      "metadata": {
        "id": "WINdThW0EkFS",
        "colab": {
          "base_uri": "https://localhost:8080/"
        },
        "outputId": "0a783ec0-717a-4b29-aa05-96982ef5a3fe"
      },
      "execution_count": 140,
      "outputs": [
        {
          "output_type": "stream",
          "name": "stdout",
          "text": [
            "Male employees: 882\n",
            "Female employees: 588\n",
            "Male employees in Sales: 257\n",
            "Female employees in Sales: 189\n",
            "Male employees in R_D: 582\n",
            "Female employees in R_D: 379\n",
            "Male employees in HR: 882\n",
            "Female employees in HR: 588\n"
          ]
        }
      ]
    },
    {
      "cell_type": "code",
      "source": [
        "data['Total Working Years'].unique()"
      ],
      "metadata": {
        "colab": {
          "base_uri": "https://localhost:8080/"
        },
        "id": "lWb2AwkUNfGf",
        "outputId": "a2ca1586-2314-4c4e-b0db-6fdcfd29f908"
      },
      "execution_count": 141,
      "outputs": [
        {
          "output_type": "execute_result",
          "data": {
            "text/plain": [
              "array([ 8, 10,  7,  6, 12,  1, 17,  5,  3, 31, 13,  0, 26, 24, 22,  9, 19,\n",
              "        2, 23, 14, 15,  4, 29, 28, 21, 25, 20, 11, 16, 37, 38, 30, 40, 18,\n",
              "       36, 34, 32, 33, 35, 27])"
            ]
          },
          "metadata": {},
          "execution_count": 141
        }
      ]
    },
    {
      "cell_type": "code",
      "source": [
        "import plotly.express as px\n",
        "import plotly.io as pio\n",
        "from plotly.offline import plot\n",
        "pio.renderers.default = \"notebook_connected\"\n",
        "\n",
        "\n",
        "age_counts = data['Age'].value_counts().reset_index()\n",
        "age_counts.columns = ['Age', 'Count']\n",
        "fig = px.bar(age_counts, x='Age', y='Count', title='Age Distribution', labels={'Age': 'Age', 'Count': 'Number of Employees'})\n",
        "pio.write_html(fig, file='bar_plot_age.html', auto_open=False)\n",
        "plot(fig)"
      ],
      "metadata": {
        "colab": {
          "base_uri": "https://localhost:8080/",
          "height": 35
        },
        "id": "VUrcgBJxNlwI",
        "outputId": "44ffb8c3-ac46-4775-ffef-6009877da02c"
      },
      "execution_count": 142,
      "outputs": [
        {
          "output_type": "execute_result",
          "data": {
            "text/plain": [
              "'temp-plot.html'"
            ],
            "application/vnd.google.colaboratory.intrinsic+json": {
              "type": "string"
            }
          },
          "metadata": {},
          "execution_count": 142
        }
      ]
    },
    {
      "cell_type": "code",
      "source": [
        "Sales.loc[:, 'Department'] = 'Sales'\n",
        "R_D.loc[:, 'Department'] = 'R&D'\n",
        "HR.loc[:, 'Department'] = 'HR'\n",
        "\n",
        "combined_data = pd.concat([Sales, R_D, HR])\n",
        "wlb_counts = combined_data.groupby(['Department', 'Work Life Balance']).size().reset_index(name='Count')\n",
        "\n",
        "fig = px.bar(wlb_counts,\n",
        "             x='Work Life Balance',\n",
        "             y='Count',\n",
        "             color='Department',\n",
        "             barmode='group',\n",
        "             title='Work Life Balance Distribution by Department',\n",
        "             labels={'Work Life Balance': 'Work Life Balance', 'Count': 'Number of Employees'})\n",
        "pio.write_html(fig, file='bar_plot_wlf.html', auto_open=False)\n",
        "plot(fig)"
      ],
      "metadata": {
        "colab": {
          "base_uri": "https://localhost:8080/",
          "height": 35
        },
        "id": "OCNIZjp0PTqD",
        "outputId": "779737d7-7277-4387-f6e6-b934c221163c"
      },
      "execution_count": 143,
      "outputs": [
        {
          "output_type": "execute_result",
          "data": {
            "text/plain": [
              "'temp-plot.html'"
            ],
            "application/vnd.google.colaboratory.intrinsic+json": {
              "type": "string"
            }
          },
          "metadata": {},
          "execution_count": 143
        }
      ]
    },
    {
      "cell_type": "code",
      "source": [
        "import plotly.express as px\n",
        "\n",
        "department_gender_counts = {'Sales': {}, 'R&D': {}, 'HR': {}}\n",
        "\n",
        "for department in department_gender_counts.keys():\n",
        "    department_data = data[data['Department'] == department]\n",
        "\n",
        "    male_count = department_data[department_data['Gender'] == 'Male'].shape[0]\n",
        "    female_count = department_data[department_data['Gender'] == 'Female'].shape[0]\n",
        "\n",
        "    department_gender_counts[department]['Male'] = male_count\n",
        "    department_gender_counts[department]['Female'] = female_count\n",
        "\n",
        "gender_df = pd.DataFrame(department_gender_counts).reset_index().melt(id_vars='index', var_name='Gender', value_name='Count')\n",
        "\n",
        "fig = px.bar(gender_df,\n",
        "             x='index',\n",
        "             y='Count',\n",
        "             color='Gender',\n",
        "             barmode='group',\n",
        "             title='Gender Distribution by Department',\n",
        "             labels={'index': 'Department', 'Count': 'Number of Employees'})\n",
        "pio.write_html(fig, file='bar_plot_gender.html', auto_open=False)\n",
        "\n",
        "plot(fig)"
      ],
      "metadata": {
        "colab": {
          "base_uri": "https://localhost:8080/",
          "height": 35
        },
        "id": "eT2AHcvqPly6",
        "outputId": "0f1fbab9-f187-4543-dd51-fed26d681baf"
      },
      "execution_count": 144,
      "outputs": [
        {
          "output_type": "execute_result",
          "data": {
            "text/plain": [
              "'temp-plot.html'"
            ],
            "application/vnd.google.colaboratory.intrinsic+json": {
              "type": "string"
            }
          },
          "metadata": {},
          "execution_count": 144
        }
      ]
    },
    {
      "cell_type": "code",
      "source": [
        "department_data = {'Sales': Sales, 'R&D': R_D, 'HR': HR}\n",
        "\n",
        "department_stats = []\n",
        "\n",
        "for department, df in department_data.items():\n",
        "    employees_count = df.shape[0]\n",
        "    active_members_count = df[df['CF_attrition label'] == 'Current Employees'].shape[0]\n",
        "    attrition_count = df[df['Attrition'] == 'Yes'].shape[0]\n",
        "    attrition_rate = round((attrition_count / (employees_count - attrition_count)) * 100, 2)\n",
        "\n",
        "    department_stats.append({'Department': department,\n",
        "                             'Employees Count': employees_count,\n",
        "                             'Active Members Count': active_members_count,\n",
        "                             'Attrition Count': attrition_count,\n",
        "                             'Attrition Rate': attrition_rate})\n",
        "\n",
        "department_stats_df = pd.DataFrame(department_stats)\n",
        "fig = px.bar(department_stats_df,\n",
        "             x='Department',\n",
        "             y=['Employees Count', 'Active Members Count', 'Attrition Count', 'Attrition Rate'],\n",
        "             title='Department-wise Employee Statistics',\n",
        "             barmode='group',\n",
        "             labels={'value': 'Count/Rates', 'variable': 'Statistics'})\n",
        "pio.write_html(fig, file='bar_plot_dep.html', auto_open=False)\n",
        "\n",
        "plot(fig)"
      ],
      "metadata": {
        "colab": {
          "base_uri": "https://localhost:8080/",
          "height": 35
        },
        "id": "D-fewDRYQlTV",
        "outputId": "e23e1b77-757d-4ca8-9a48-53014683a91a"
      },
      "execution_count": 145,
      "outputs": [
        {
          "output_type": "execute_result",
          "data": {
            "text/plain": [
              "'temp-plot.html'"
            ],
            "application/vnd.google.colaboratory.intrinsic+json": {
              "type": "string"
            }
          },
          "metadata": {},
          "execution_count": 145
        }
      ]
    },
    {
      "cell_type": "code",
      "source": [
        "data['Job Role'].value_counts()"
      ],
      "metadata": {
        "colab": {
          "base_uri": "https://localhost:8080/"
        },
        "id": "69CNMyN2SsWM",
        "outputId": "b8450bc7-4ed3-46fc-f5f7-5c6b83c01ba6"
      },
      "execution_count": 146,
      "outputs": [
        {
          "output_type": "execute_result",
          "data": {
            "text/plain": [
              "Job Role\n",
              "Sales Executive              326\n",
              "Research Scientist           292\n",
              "Laboratory Technician        259\n",
              "Manufacturing Director       145\n",
              "Healthcare Representative    131\n",
              "Manager                      102\n",
              "Sales Representative          83\n",
              "Research Director             80\n",
              "Human Resources               52\n",
              "Name: count, dtype: int64"
            ]
          },
          "metadata": {},
          "execution_count": 146
        }
      ]
    },
    {
      "cell_type": "code",
      "source": [
        "import plotly.express as px\n",
        "\n",
        "age_counts = data['Job Role'].value_counts().reset_index()\n",
        "age_counts.columns = ['Job Role', 'Count']\n",
        "fig = px.bar(age_counts, x='Job Role', y='Count', title='Job Role Distribution', labels={'Job Role': 'Job Role', 'Count': 'Number of Employees'})\n",
        "pio.write_html(fig, file='bar_plot_jobs.html', auto_open=False)\n",
        "\n",
        "plot(fig)"
      ],
      "metadata": {
        "colab": {
          "base_uri": "https://localhost:8080/",
          "height": 35
        },
        "id": "ew0xFwjaSuED",
        "outputId": "1dcddc05-3bde-45e9-fac0-ebd4e1d31dc3"
      },
      "execution_count": 147,
      "outputs": [
        {
          "output_type": "execute_result",
          "data": {
            "text/plain": [
              "'temp-plot.html'"
            ],
            "application/vnd.google.colaboratory.intrinsic+json": {
              "type": "string"
            }
          },
          "metadata": {},
          "execution_count": 147
        }
      ]
    },
    {
      "cell_type": "code",
      "source": [
        "data['CF_current Employee'].unique()"
      ],
      "metadata": {
        "colab": {
          "base_uri": "https://localhost:8080/"
        },
        "id": "pt2HDgx8S3Ch",
        "outputId": "071291ed-39b8-43b1-f72d-8bddfe86ab18"
      },
      "execution_count": 148,
      "outputs": [
        {
          "output_type": "execute_result",
          "data": {
            "text/plain": [
              "array([0, 1])"
            ]
          },
          "metadata": {},
          "execution_count": 148
        }
      ]
    },
    {
      "cell_type": "code",
      "source": [
        "max_hourly_rates = data.groupby('Job Level')['Hourly Rate'].max()\n",
        "min_hourly_rates = data.groupby('Job Level')['Hourly Rate'].min()\n",
        "avg_hourly_rates = data.groupby('Job Level')['Hourly Rate'].mean()\n",
        "\n",
        "hourly_rate_summary = pd.DataFrame({'Job Level': max_hourly_rates.index,\n",
        "                                    'Max Hourly Rate': max_hourly_rates.values,\n",
        "                                    'Min Hourly Rate': min_hourly_rates.values,\n",
        "                                    'Avg Hourly Rate': avg_hourly_rates.values})\n",
        "\n",
        "fig = px.bar(hourly_rate_summary, x='Job Level',\n",
        "             y=['Max Hourly Rate', 'Min Hourly Rate', 'Avg Hourly Rate'],\n",
        "             barmode='group', title='Hourly Rate Summary by Job Level')\n",
        "pio.write_html(fig, file='bar_plot_level.html', auto_open=False)\n",
        "\n",
        "plot(fig)"
      ],
      "metadata": {
        "colab": {
          "base_uri": "https://localhost:8080/",
          "height": 35
        },
        "id": "R55vy_YhTB-t",
        "outputId": "b3b5ee0f-8fb1-4a26-ec77-1973071e0408"
      },
      "execution_count": 149,
      "outputs": [
        {
          "output_type": "execute_result",
          "data": {
            "text/plain": [
              "'temp-plot.html'"
            ],
            "application/vnd.google.colaboratory.intrinsic+json": {
              "type": "string"
            }
          },
          "metadata": {},
          "execution_count": 149
        }
      ]
    },
    {
      "cell_type": "code",
      "source": [
        "data['Education Field'].unique()"
      ],
      "metadata": {
        "id": "wKYW9XSIT768",
        "colab": {
          "base_uri": "https://localhost:8080/"
        },
        "outputId": "f3e21ef0-14db-46ee-f615-53a4b49fa72b"
      },
      "execution_count": 150,
      "outputs": [
        {
          "output_type": "execute_result",
          "data": {
            "text/plain": [
              "array(['Life Sciences', 'Other', 'Medical', 'Marketing',\n",
              "       'Technical Degree', 'Human Resources'], dtype=object)"
            ]
          },
          "metadata": {},
          "execution_count": 150
        }
      ]
    },
    {
      "cell_type": "code",
      "source": [
        "department_data = {'Sales': Sales, 'R&D': R_D, 'HR': HR}\n",
        "counts_list = []\n",
        "all_data = pd.concat(department_data.values())\n",
        "unique_education_fields = all_data['Education Field'].unique()\n",
        "\n",
        "for department, data in department_data.items():\n",
        "    for field in unique_education_fields:\n",
        "        count = (data['Education Field'] == field).sum()\n",
        "        counts_list.append({'Department': department, 'Education Field': field, 'Count': count})\n",
        "\n",
        "count_df = pd.DataFrame(counts_list)\n",
        "fig = px.bar(count_df, x='Department', y='Count', color='Education Field', barmode='group',\n",
        "             title='Count of People in Each Education Field by Department')\n",
        "pio.write_html(fig, file='bar_plot_edu.html', auto_open=False)\n",
        "\n",
        "plot(fig)"
      ],
      "metadata": {
        "colab": {
          "base_uri": "https://localhost:8080/",
          "height": 35
        },
        "id": "9Waixly_9vUK",
        "outputId": "637060c2-ab77-4d05-dac6-96a65ff76f52"
      },
      "execution_count": 151,
      "outputs": [
        {
          "output_type": "execute_result",
          "data": {
            "text/plain": [
              "'temp-plot.html'"
            ],
            "application/vnd.google.colaboratory.intrinsic+json": {
              "type": "string"
            }
          },
          "metadata": {},
          "execution_count": 151
        }
      ]
    },
    {
      "cell_type": "code",
      "source": [
        "fig = px.box(data, x='Years Since Last Promotion', y='Years At Company',\n",
        "             title='Box Plot of Years At Company for Each Years Since Last Promotion',\n",
        "             labels={'Years Since Last Promotion': 'Years Since Last Promotion', 'Years At Company': 'Years At Company'})\n",
        "pio.write_html(fig, file='box_plot_comp1.html', auto_open=False)\n",
        "\n",
        "plot(fig)"
      ],
      "metadata": {
        "colab": {
          "base_uri": "https://localhost:8080/",
          "height": 35
        },
        "id": "QYk7wVFtceu_",
        "outputId": "bbd2a8cd-0562-4bf2-991a-c4f1ad8182af"
      },
      "execution_count": 152,
      "outputs": [
        {
          "output_type": "execute_result",
          "data": {
            "text/plain": [
              "'temp-plot.html'"
            ],
            "application/vnd.google.colaboratory.intrinsic+json": {
              "type": "string"
            }
          },
          "metadata": {},
          "execution_count": 152
        }
      ]
    },
    {
      "cell_type": "code",
      "source": [
        "fig = px.box(data, x='Total Working Years', y=['Years At Company', 'Years In Current Role'],\n",
        "             title='Distribution of Years At Company and Years In Current Role over Total Working Years')\n",
        "pio.write_html(fig, file='box_plot_comp2.html', auto_open=False)\n",
        "plot(fig)"
      ],
      "metadata": {
        "colab": {
          "base_uri": "https://localhost:8080/",
          "height": 35
        },
        "id": "gs7_8P_jX19K",
        "outputId": "610dc575-52f1-4417-89b7-8a1a8f5f93e1"
      },
      "execution_count": 153,
      "outputs": [
        {
          "output_type": "execute_result",
          "data": {
            "text/plain": [
              "'temp-plot.html'"
            ],
            "application/vnd.google.colaboratory.intrinsic+json": {
              "type": "string"
            }
          },
          "metadata": {},
          "execution_count": 153
        }
      ]
    },
    {
      "cell_type": "code",
      "source": [
        "fig = px.box(data, x='Total Working Years', y='Years In Current Role',\n",
        "             title='Box Plot of Years In Current Role for Each Total Working Years')\n",
        "pio.write_html(fig, file='box_plot_comp3.html', auto_open=False)\n",
        "plot(fig)"
      ],
      "metadata": {
        "colab": {
          "base_uri": "https://localhost:8080/",
          "height": 35
        },
        "id": "eLINJLvMX8Ou",
        "outputId": "4577ba8d-5397-4c8f-9634-ad68d00072d5"
      },
      "execution_count": 154,
      "outputs": [
        {
          "output_type": "execute_result",
          "data": {
            "text/plain": [
              "'temp-plot.html'"
            ],
            "application/vnd.google.colaboratory.intrinsic+json": {
              "type": "string"
            }
          },
          "metadata": {},
          "execution_count": 154
        }
      ]
    }
  ]
}